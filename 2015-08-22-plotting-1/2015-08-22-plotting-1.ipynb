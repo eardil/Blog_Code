{
 "cells": [
  {
   "cell_type": "markdown",
   "metadata": {},
   "source": [
    "## Plotting"
   ]
  },
  {
   "cell_type": "code",
   "execution_count": null,
   "metadata": {
    "collapsed": true
   },
   "outputs": [],
   "source": [
    "def candles(n,M):\n",
    "    Kj=np.zeros(M)\n",
    "    for j in range(0,M):\n",
    "        ni=n\n",
    "        k=0\n",
    "        while ni>=1:\n",
    "            ni=ni-np.random.random_integers(1,ni)\n",
    "            k+=1\n",
    "        Kj[j]=k\n",
    "    return np.mean(Kj)"
   ]
  },
  {
   "cell_type": "markdown",
   "metadata": {},
   "source": [
    "### Plotting\n",
    "I need to load another library called `matplotlib` to get some plotting done. The second line is for the graphs to appear right here instead of in a new window."
   ]
  },
  {
   "cell_type": "code",
   "execution_count": null,
   "metadata": {
    "collapsed": true
   },
   "outputs": [],
   "source": [
    "import matplotlib.pyplot as plt\n",
    "%matplotlib inline"
   ]
  },
  {
   "cell_type": "markdown",
   "metadata": {},
   "source": [
    "For plotting, you \"create\" the plot, then make customizations (like labels and colors), and the you `show` it."
   ]
  },
  {
   "cell_type": "code",
   "execution_count": null,
   "metadata": {
    "collapsed": true
   },
   "outputs": [],
   "source": [
    "plt.plot(K)\n",
    "plt.ylabel('Rounds')\n",
    "plt.xlabel('Candles')\n",
    "plt.show()"
   ]
  },
  {
   "cell_type": "markdown",
   "metadata": {},
   "source": [
    "Nice enough. But lets get crazier with the simulations and run it for more candles...lets say $n=1,\\dots,500$. And see what happens."
   ]
  },
  {
   "cell_type": "code",
   "execution_count": null,
   "metadata": {
    "collapsed": true
   },
   "outputs": [],
   "source": [
    "M=1000\n",
    "N=500\n",
    "\n",
    "K=np.zeros(N)\n",
    "for n in range(1,N+1):\n",
    "    K[n-1]=candles(n,M)\n",
    "\n",
    "plt.plot(K)\n",
    "plt.ylabel('Rounds')\n",
    "plt.xlabel('Candles')\n",
    "plt.show()"
   ]
  },
  {
   "cell_type": "markdown",
   "metadata": {},
   "source": [
    "It looks kinda logarithmic. But don't trust my word for it, lets see the graph of the natural logaritm."
   ]
  },
  {
   "cell_type": "markdown",
   "metadata": {},
   "source": [
    "That means we could try to adjust a linear model to the exponential of $K$."
   ]
  },
  {
   "cell_type": "markdown",
   "metadata": {},
   "source": [
    "## Modelling\n",
    "\n",
    "First let's see that $e^K$ looks indeed linear:"
   ]
  },
  {
   "cell_type": "code",
   "execution_count": null,
   "metadata": {
    "collapsed": true
   },
   "outputs": [],
   "source": [
    "plt.plot(np.exp(K),label=\"Exp(K)\")\n",
    "plt.ylabel('Exp(Rounds)')\n",
    "plt.xlabel('Candles')\n",
    "plt.show()"
   ]
  },
  {
   "cell_type": "markdown",
   "metadata": {},
   "source": [
    "Now we need a library for statistical modelling, so lets call `scipy` and it's `stats` package."
   ]
  },
  {
   "cell_type": "code",
   "execution_count": null,
   "metadata": {
    "collapsed": true
   },
   "outputs": [],
   "source": [
    "from scipy import stats as stat"
   ]
  },
  {
   "cell_type": "markdown",
   "metadata": {},
   "source": [
    "Now I'll magically perform linear regression on $e^K$."
   ]
  },
  {
   "cell_type": "code",
   "execution_count": null,
   "metadata": {
    "collapsed": true
   },
   "outputs": [],
   "source": [
    "lin_K = stat.linregress(range(1,N+1), y=np.exp(K))\n",
    "print(lin_K)"
   ]
  },
  {
   "cell_type": "markdown",
   "metadata": {},
   "source": [
    "It seems it didn't crash, so let's try to plot it"
   ]
  },
  {
   "cell_type": "markdown",
   "metadata": {},
   "source": [
    "Pretty neat, although I would prefer a linear regression function with some kind of predict function or fitted values but I'll leave that for other post.\n",
    "\n",
    "### Final graph and thoughts\n",
    "This is the final product:"
   ]
  },
  {
   "cell_type": "code",
   "execution_count": null,
   "metadata": {
    "collapsed": true
   },
   "outputs": [],
   "source": [
    "plt.plot(K,label=\"Average rounds\")\n",
    "plt.plot(np.log(lin_K.intercept+lin_K.slope*range(1,N+1)),label=\"Lin_model\",color='r')\n",
    "plt.ylabel('Average rounds')\n",
    "plt.xlabel('Candles')\n",
    "plt.title(\"Rounds ~ log(%s + %s * Candles)\" % (lin_K.intercept,lin_K.slope))\n",
    "plt.legend(loc=4)\n",
    "plt.show()"
   ]
  },
  {
   "cell_type": "markdown",
   "metadata": {},
   "source": []
  }
 ],
 "metadata": {
  "kernelspec": {
   "display_name": "Python 3",
   "language": "python",
   "name": "python3"
  },
  "language_info": {
   "codemirror_mode": {
    "name": "ipython",
    "version": 3
   },
   "file_extension": ".py",
   "mimetype": "text/x-python",
   "name": "python",
   "nbconvert_exporter": "python",
   "pygments_lexer": "ipython3",
   "version": "3.4.3"
  }
 },
 "nbformat": 4,
 "nbformat_minor": 0
}
