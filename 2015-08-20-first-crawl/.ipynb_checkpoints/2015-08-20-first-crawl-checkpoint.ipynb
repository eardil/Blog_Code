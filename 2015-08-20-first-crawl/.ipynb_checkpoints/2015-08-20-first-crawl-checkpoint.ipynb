{
 "cells": [
  {
   "cell_type": "markdown",
   "metadata": {},
   "source": [
    "# First crawl\n",
    "\n",
    "I've never liked learning languages (programming or otherwise). The way I learned english and any phrase I know from any other language (elen sila lumenn omentielvo!) is by watching movies or reading books/blogs. As for programming languages, I have learned by having to solve problems so I'll do just that."
   ]
  },
  {
   "cell_type": "markdown",
   "metadata": {},
   "source": [
    "## The birthday candle problem\n",
    "I follow Brent Yorgey's [The Math Less Traveled](http://mathlesstraveled.com/) and --by the time I'm writing this-- I've just read his post on [The birthday candle problem](http://mathlesstraveled.com/2015/08/07/the-birthday-candle-problem/), as it sounds fun I decided to start my first introduction to `Python` by trying to run some simulations from it. You can read more about it on his post, but I'll quote him on the problem:\n",
    "\n",
    ">A birthday cake has $n$ lit candles. At each step you pick a number $1 \\leq k \\leq n$ uniformly at random and blow out $k$ candles. If any candles remain lit, the process repeats (using a new value of $n$). As a function of $n$, what is the expected number of rounds needed to blow out all the candles?\n",
    "\n",
    "I began this blog by saying that I wanted first of all to replace my need of `MATLAB`, so what I did was first to write some `MATLAB` code and I'll try to reproduce it. I wrote the most straightforward code I came up with. Here it is:\n",
    "\n",
    "``` Matlab\n",
    "%%%%%%%%%%%%%%%%%%%%%%%%%%%%%%%\n",
    "% PARAMETERSOF THE SIMULATION %\n",
    "%%%%%%%%%%%%%%%%%%%%%%%%%%%%%%%\n",
    "obs=100; % Number of observations to estimate expected value for each n\n",
    "N=300; % Max number of candles\n",
    "\n",
    "\n",
    "%%%%%%%%%%%%%%%%%%%%%%\n",
    "% PART 1: SIMULATION %\n",
    "%%%%%%%%%%%%%%%%%%%%%%\n",
    "K=zeros(N,1); % For storing the expected values\n",
    "\n",
    "for n=1:N % Iterate for each number of candles\n",
    "    ki=0; % To save number of rounds\n",
    "    for j=1:obs % Generate observations\n",
    "        ni=n;\n",
    "        k=0; % Number of steps in this observation\n",
    "        while ni>0 % Keep doing while there are lit candles\n",
    "            k=k+1; % Add one more step\n",
    "            ni=ni-floor((rand()*ni))-1; % Blow candles!\n",
    "        end\n",
    "        ki=ki+k; % Sum of rounds\n",
    "    end\n",
    "    K(n)=ki/obs; % Average rounds for this number of candles\n",
    "end\n",
    "\n",
    "%%%%%%%%%%%%%%%%%%%%\n",
    "% PART 2: PLOTTING %\n",
    "%%%%%%%%%%%%%%%%%%%%\n",
    "plot(K) % Plot the estimates of expected value\n",
    "hold on\n",
    "\n",
    "%%%%%%%%%%%%%%%%%%%%%\n",
    "% PART 2: MODELLING %\n",
    "%%%%%%%%%%%%%%%%%%%%%\n",
    "aaa=fitlm(1:N,exp(K)); % Fit a linear model to exp(k) (believe me, it looks logaritmic)\n",
    "\n",
    "% FINAL PLOT\n",
    "plot(1:N,log(aaa.Fitted)) % Fit fitted values (believe me, it looks great)\n",
    "xlabel('n')\n",
    "ylabel('Average rounds')\n",
    "```\n",
    "\n",
    "I put it for reference for those who would like to run some `MATLAB` code. Now lets begin with the quest to find everything I need.\n",
    "\n",
    "It seems that if I want to do numeric stuff I need to load a certain library called `numpy`. It's my first library load. Yay!"
   ]
  },
  {
   "cell_type": "code",
   "execution_count": 16,
   "metadata": {
    "collapsed": true
   },
   "outputs": [],
   "source": [
    "import numpy as np"
   ]
  },
  {
   "cell_type": "markdown",
   "metadata": {},
   "source": [
    "### Random numbers\n",
    "If we want to blow out candles, and who doesn't, we need some random numbers. Inside numpy, there's this thing called `random` that has a function called `random_integers` that can generate some sequence of random numbers exactly how we need: given some $n$ generate a number between $1$ and $n$. I'll work with $n=10$."
   ]
  },
  {
   "cell_type": "code",
   "execution_count": 17,
   "metadata": {
    "collapsed": false
   },
   "outputs": [
    {
     "name": "stdout",
     "output_type": "stream",
     "text": [
      "9\n"
     ]
    }
   ],
   "source": [
    "n = 10\n",
    "print(np.random.random_integers(1,n,))"
   ]
  },
  {
   "cell_type": "markdown",
   "metadata": {},
   "source": [
    "To see it better lets generate 5 numbers."
   ]
  },
  {
   "cell_type": "code",
   "execution_count": 18,
   "metadata": {
    "collapsed": false
   },
   "outputs": [
    {
     "name": "stdout",
     "output_type": "stream",
     "text": [
      "[ 7 10  4  6  6]\n"
     ]
    }
   ],
   "source": [
    "print(np.random.random_integers(1,n,5))"
   ]
  },
  {
   "cell_type": "markdown",
   "metadata": {},
   "source": [
    "It looks kinda...long. Maybe later I'll learn some way to clean it up.\n",
    "\n",
    "### Loops\n",
    "Anyway now I have some random numbers and need a `while` loop to keep blowing out candles until there's none left."
   ]
  },
  {
   "cell_type": "code",
   "execution_count": 19,
   "metadata": {
    "collapsed": false
   },
   "outputs": [
    {
     "name": "stdout",
     "output_type": "stream",
     "text": [
      "Round 1: From 10 candles, I blow out 8.\n",
      "Round 2: From 2 candles, I blow out 2.\n"
     ]
    }
   ],
   "source": [
    "n=10\n",
    "k=0\n",
    "while n>=1:\n",
    "    k+=1\n",
    "    r=np.random.random_integers(1,n)\n",
    "    print(\"Round %s: From %s candles, I blow out %s.\" % (k,n,r))\n",
    "    n=n-r"
   ]
  },
  {
   "cell_type": "markdown",
   "metadata": {},
   "source": [
    "Now lets make $M$ simulations to get an estimate of the expected value via the mean. Here, `range(min,max)` generates a sequence of numbers $min, min+1,\\dots,max-1$"
   ]
  },
  {
   "cell_type": "code",
   "execution_count": 23,
   "metadata": {
    "collapsed": false
   },
   "outputs": [
    {
     "name": "stdout",
     "output_type": "stream",
     "text": [
      "[ 0.  0.  0.  0.]\n",
      "The average is: 0.0.\n"
     ]
    }
   ],
   "source": [
    "M=4\n",
    "Kj=np.zeros(M)\n",
    "\n",
    "for j in range(0,M):\n",
    "        ni=n\n",
    "        k=0\n",
    "        while ni>=1:\n",
    "            ni=ni-np.random.random_integers(1,ni)\n",
    "            k+=1\n",
    "        Kj[j]=k\n",
    "print(Kj)\n",
    "print(\"The average is: %s.\" % np.mean(Kj))"
   ]
  },
  {
   "cell_type": "markdown",
   "metadata": {},
   "source": [
    "### Functions\n",
    "Now I'll define it as a function to call it easily by the number of initial candles $n$ and the number of simulations $M$."
   ]
  },
  {
   "cell_type": "code",
   "execution_count": 28,
   "metadata": {
    "collapsed": false
   },
   "outputs": [
    {
     "name": "stdout",
     "output_type": "stream",
     "text": [
      "With 10 candles, I needed 3.25 average rounds with a sample size of 4.\n"
     ]
    }
   ],
   "source": [
    "n=10\n",
    "M=4\n",
    "\n",
    "def candles(n,M):\n",
    "    Kj=np.zeros(M)\n",
    "    for j in range(0,M):\n",
    "        ni=n\n",
    "        k=0\n",
    "        while ni>=1:\n",
    "            ni=ni-np.random.random_integers(1,ni)\n",
    "            k+=1\n",
    "        Kj[j]=k\n",
    "    return np.mean(Kj)\n",
    "\n",
    "K = candles(n,M)\n",
    "print(\"With %s candles, I needed %s average rounds with a sample size of %s.\" % (n,K,M))"
   ]
  },
  {
   "cell_type": "markdown",
   "metadata": {},
   "source": [
    "With this I can easily make simulations for lots of values of $n$. Let's try for $n=1,2,\\dots,10$ with a sample size of $M=1000$. "
   ]
  },
  {
   "cell_type": "code",
   "execution_count": null,
   "metadata": {
    "collapsed": true
   },
   "outputs": [],
   "source": [
    "M=1000\n",
    "N=10\n",
    "\n",
    "K=np.zeros(N)\n",
    "for n in range(1,N+1):\n",
    "    K[n-1]=candles(n,M)\n",
    "    print(\"With %s candles, I needed %s rounds on average.\" % (n,K[n-1]))"
   ]
  },
  {
   "cell_type": "markdown",
   "metadata": {},
   "source": [
    "Now I've completed part 1 of the code. In the next post I'll have to plot and model the data. "
   ]
  }
 ],
 "metadata": {
  "kernelspec": {
   "display_name": "Python 3",
   "language": "python",
   "name": "python3"
  },
  "language_info": {
   "codemirror_mode": {
    "name": "ipython",
    "version": 3
   },
   "file_extension": ".py",
   "mimetype": "text/x-python",
   "name": "python",
   "nbconvert_exporter": "python",
   "pygments_lexer": "ipython3",
   "version": "3.4.3"
  }
 },
 "nbformat": 4,
 "nbformat_minor": 0
}
